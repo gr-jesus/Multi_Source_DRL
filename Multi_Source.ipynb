{
  "nbformat": 4,
  "nbformat_minor": 0,
  "metadata": {
    "colab": {
      "name": "Multi-Source.ipynb",
      "provenance": [],
      "collapsed_sections": []
    },
    "kernelspec": {
      "name": "python3",
      "display_name": "Python 3"
    },
    "accelerator": "GPU"
  },
  "cells": [
    {
      "cell_type": "code",
      "metadata": {
        "colab": {
          "base_uri": "https://localhost:8080/"
        },
        "id": "UwAI-ctgzNnN",
        "outputId": "799e9587-e2b9-44ea-a67d-01138ca32659"
      },
      "source": [
        "from google.colab import drive\n",
        "drive.mount('/content/drive')"
      ],
      "execution_count": null,
      "outputs": [
        {
          "output_type": "stream",
          "text": [
            "Mounted at /content/drive\n"
          ],
          "name": "stdout"
        }
      ]
    },
    {
      "cell_type": "code",
      "metadata": {
        "colab": {
          "base_uri": "https://localhost:8080/"
        },
        "id": "iRxZDEnMzVkG",
        "outputId": "214bfa6b-8513-43c1-ca30-cd6c2e3b34c4"
      },
      "source": [
        "# @title Install necessary packages.\n",
        "!pip install --upgrade --no-cache-dir dopamine-rl\n",
        "!pip install cmake\n",
        "!pip install atari_py\n",
        "!pip install gin-config\n",
        "%tensorflow_version 1.x"
      ],
      "execution_count": null,
      "outputs": [
        {
          "output_type": "stream",
          "text": [
            "Collecting dopamine-rl\n",
            "\u001b[?25l  Downloading https://files.pythonhosted.org/packages/f7/a8/443668d6c1a23b6e1713794674296854349c710079d8d4abaedf5623f8cb/dopamine_rl-3.1.8-py3-none-any.whl (117kB)\n",
            "\r\u001b[K     |██▉                             | 10kB 21.9MB/s eta 0:00:01\r\u001b[K     |█████▋                          | 20kB 17.5MB/s eta 0:00:01\r\u001b[K     |████████▍                       | 30kB 14.9MB/s eta 0:00:01\r\u001b[K     |███████████▏                    | 40kB 13.3MB/s eta 0:00:01\r\u001b[K     |██████████████                  | 51kB 9.7MB/s eta 0:00:01\r\u001b[K     |████████████████▊               | 61kB 8.8MB/s eta 0:00:01\r\u001b[K     |███████████████████▌            | 71kB 10.0MB/s eta 0:00:01\r\u001b[K     |██████████████████████▎         | 81kB 11.0MB/s eta 0:00:01\r\u001b[K     |█████████████████████████       | 92kB 10.3MB/s eta 0:00:01\r\u001b[K     |███████████████████████████▉    | 102kB 9.3MB/s eta 0:00:01\r\u001b[K     |██████████████████████████████▋ | 112kB 9.3MB/s eta 0:00:01\r\u001b[K     |████████████████████████████████| 122kB 9.3MB/s \n",
            "\u001b[?25hRequirement already satisfied, skipping upgrade: pandas>=0.24.2 in /usr/local/lib/python3.6/dist-packages (from dopamine-rl) (1.1.5)\n",
            "Requirement already satisfied, skipping upgrade: tensorflow>=2.2.0 in /usr/local/lib/python3.6/dist-packages (from dopamine-rl) (2.4.1)\n",
            "Collecting flax>=0.2.0\n",
            "\u001b[?25l  Downloading https://files.pythonhosted.org/packages/c7/c0/941b4d2a2164c677fe665b6ddb5ac90306d76f8ffc298f44c41c64b30f1a/flax-0.3.0-py3-none-any.whl (154kB)\n",
            "\r\u001b[K     |██▏                             | 10kB 24.1MB/s eta 0:00:01\r\u001b[K     |████▎                           | 20kB 30.9MB/s eta 0:00:01\r\u001b[K     |██████▍                         | 30kB 34.8MB/s eta 0:00:01\r\u001b[K     |████████▌                       | 40kB 24.4MB/s eta 0:00:01\r\u001b[K     |██████████▋                     | 51kB 19.6MB/s eta 0:00:01\r\u001b[K     |████████████▊                   | 61kB 17.4MB/s eta 0:00:01\r\u001b[K     |██████████████▉                 | 71kB 13.8MB/s eta 0:00:01\r\u001b[K     |█████████████████               | 81kB 14.4MB/s eta 0:00:01\r\u001b[K     |███████████████████             | 92kB 13.9MB/s eta 0:00:01\r\u001b[K     |█████████████████████▏          | 102kB 15.1MB/s eta 0:00:01\r\u001b[K     |███████████████████████▎        | 112kB 15.1MB/s eta 0:00:01\r\u001b[K     |█████████████████████████▍      | 122kB 15.1MB/s eta 0:00:01\r\u001b[K     |███████████████████████████▌    | 133kB 15.1MB/s eta 0:00:01\r\u001b[K     |█████████████████████████████▋  | 143kB 15.1MB/s eta 0:00:01\r\u001b[K     |███████████████████████████████▊| 153kB 15.1MB/s eta 0:00:01\r\u001b[K     |████████████████████████████████| 163kB 15.1MB/s \n",
            "\u001b[?25hRequirement already satisfied, skipping upgrade: numpy>=1.16.4 in /usr/local/lib/python3.6/dist-packages (from dopamine-rl) (1.19.5)\n",
            "Requirement already satisfied, skipping upgrade: gin-config>=0.3.0 in /usr/local/lib/python3.6/dist-packages (from dopamine-rl) (0.4.0)\n",
            "Collecting pygame>=1.9.2\n",
            "\u001b[?25l  Downloading https://files.pythonhosted.org/packages/01/da/4ff439558641a26dd29b04c25947e6c0ace041f56b2aa2ef1134edab06b8/pygame-2.0.1-cp36-cp36m-manylinux1_x86_64.whl (11.8MB)\n",
            "\u001b[K     |████████████████████████████████| 11.8MB 9.0MB/s \n",
            "\u001b[?25hRequirement already satisfied, skipping upgrade: jaxlib>=0.1.51 in /usr/local/lib/python3.6/dist-packages (from dopamine-rl) (0.1.59+cuda101)\n",
            "Collecting tf-slim>=1.0\n",
            "\u001b[?25l  Downloading https://files.pythonhosted.org/packages/02/97/b0f4a64df018ca018cc035d44f2ef08f91e2e8aa67271f6f19633a015ff7/tf_slim-1.1.0-py2.py3-none-any.whl (352kB)\n",
            "\u001b[K     |████████████████████████████████| 358kB 51.2MB/s \n",
            "\u001b[?25hRequirement already satisfied, skipping upgrade: Pillow>=7.0.0 in /usr/local/lib/python3.6/dist-packages (from dopamine-rl) (7.0.0)\n",
            "Requirement already satisfied, skipping upgrade: opencv-python>=3.4.8.29 in /usr/local/lib/python3.6/dist-packages (from dopamine-rl) (4.1.2.30)\n",
            "Requirement already satisfied, skipping upgrade: absl-py>=0.9.0 in /usr/local/lib/python3.6/dist-packages (from dopamine-rl) (0.10.0)\n",
            "Requirement already satisfied, skipping upgrade: gym[atari]>=0.13.1 in /usr/local/lib/python3.6/dist-packages (from dopamine-rl) (0.17.3)\n",
            "Requirement already satisfied, skipping upgrade: jax>=0.1.72 in /usr/local/lib/python3.6/dist-packages (from dopamine-rl) (0.2.8)\n",
            "Requirement already satisfied, skipping upgrade: pytz>=2017.2 in /usr/local/lib/python3.6/dist-packages (from pandas>=0.24.2->dopamine-rl) (2018.9)\n",
            "Requirement already satisfied, skipping upgrade: python-dateutil>=2.7.3 in /usr/local/lib/python3.6/dist-packages (from pandas>=0.24.2->dopamine-rl) (2.8.1)\n",
            "Requirement already satisfied, skipping upgrade: wheel~=0.35 in /usr/local/lib/python3.6/dist-packages (from tensorflow>=2.2.0->dopamine-rl) (0.36.2)\n",
            "Requirement already satisfied, skipping upgrade: google-pasta~=0.2 in /usr/local/lib/python3.6/dist-packages (from tensorflow>=2.2.0->dopamine-rl) (0.2.0)\n",
            "Requirement already satisfied, skipping upgrade: astunparse~=1.6.3 in /usr/local/lib/python3.6/dist-packages (from tensorflow>=2.2.0->dopamine-rl) (1.6.3)\n",
            "Requirement already satisfied, skipping upgrade: typing-extensions~=3.7.4 in /usr/local/lib/python3.6/dist-packages (from tensorflow>=2.2.0->dopamine-rl) (3.7.4.3)\n",
            "Requirement already satisfied, skipping upgrade: tensorboard~=2.4 in /usr/local/lib/python3.6/dist-packages (from tensorflow>=2.2.0->dopamine-rl) (2.4.1)\n",
            "Requirement already satisfied, skipping upgrade: wrapt~=1.12.1 in /usr/local/lib/python3.6/dist-packages (from tensorflow>=2.2.0->dopamine-rl) (1.12.1)\n",
            "Requirement already satisfied, skipping upgrade: flatbuffers~=1.12.0 in /usr/local/lib/python3.6/dist-packages (from tensorflow>=2.2.0->dopamine-rl) (1.12)\n",
            "Requirement already satisfied, skipping upgrade: keras-preprocessing~=1.1.2 in /usr/local/lib/python3.6/dist-packages (from tensorflow>=2.2.0->dopamine-rl) (1.1.2)\n",
            "Requirement already satisfied, skipping upgrade: tensorflow-estimator<2.5.0,>=2.4.0 in /usr/local/lib/python3.6/dist-packages (from tensorflow>=2.2.0->dopamine-rl) (2.4.0)\n",
            "Requirement already satisfied, skipping upgrade: six~=1.15.0 in /usr/local/lib/python3.6/dist-packages (from tensorflow>=2.2.0->dopamine-rl) (1.15.0)\n",
            "Requirement already satisfied, skipping upgrade: protobuf>=3.9.2 in /usr/local/lib/python3.6/dist-packages (from tensorflow>=2.2.0->dopamine-rl) (3.12.4)\n",
            "Requirement already satisfied, skipping upgrade: grpcio~=1.32.0 in /usr/local/lib/python3.6/dist-packages (from tensorflow>=2.2.0->dopamine-rl) (1.32.0)\n",
            "Requirement already satisfied, skipping upgrade: gast==0.3.3 in /usr/local/lib/python3.6/dist-packages (from tensorflow>=2.2.0->dopamine-rl) (0.3.3)\n",
            "Requirement already satisfied, skipping upgrade: opt-einsum~=3.3.0 in /usr/local/lib/python3.6/dist-packages (from tensorflow>=2.2.0->dopamine-rl) (3.3.0)\n",
            "Requirement already satisfied, skipping upgrade: termcolor~=1.1.0 in /usr/local/lib/python3.6/dist-packages (from tensorflow>=2.2.0->dopamine-rl) (1.1.0)\n",
            "Requirement already satisfied, skipping upgrade: h5py~=2.10.0 in /usr/local/lib/python3.6/dist-packages (from tensorflow>=2.2.0->dopamine-rl) (2.10.0)\n",
            "Requirement already satisfied, skipping upgrade: msgpack in /usr/local/lib/python3.6/dist-packages (from flax>=0.2.0->dopamine-rl) (1.0.2)\n",
            "Requirement already satisfied, skipping upgrade: dataclasses; python_version < \"3.7\" in /usr/local/lib/python3.6/dist-packages (from flax>=0.2.0->dopamine-rl) (0.8)\n",
            "Requirement already satisfied, skipping upgrade: matplotlib in /usr/local/lib/python3.6/dist-packages (from flax>=0.2.0->dopamine-rl) (3.2.2)\n",
            "Requirement already satisfied, skipping upgrade: scipy in /usr/local/lib/python3.6/dist-packages (from jaxlib>=0.1.51->dopamine-rl) (1.4.1)\n",
            "Requirement already satisfied, skipping upgrade: pyglet<=1.5.0,>=1.4.0 in /usr/local/lib/python3.6/dist-packages (from gym[atari]>=0.13.1->dopamine-rl) (1.5.0)\n",
            "Requirement already satisfied, skipping upgrade: cloudpickle<1.7.0,>=1.2.0 in /usr/local/lib/python3.6/dist-packages (from gym[atari]>=0.13.1->dopamine-rl) (1.3.0)\n",
            "Requirement already satisfied, skipping upgrade: atari-py~=0.2.0; extra == \"atari\" in /usr/local/lib/python3.6/dist-packages (from gym[atari]>=0.13.1->dopamine-rl) (0.2.6)\n",
            "Requirement already satisfied, skipping upgrade: google-auth<2,>=1.6.3 in /usr/local/lib/python3.6/dist-packages (from tensorboard~=2.4->tensorflow>=2.2.0->dopamine-rl) (1.24.0)\n",
            "Requirement already satisfied, skipping upgrade: google-auth-oauthlib<0.5,>=0.4.1 in /usr/local/lib/python3.6/dist-packages (from tensorboard~=2.4->tensorflow>=2.2.0->dopamine-rl) (0.4.2)\n",
            "Requirement already satisfied, skipping upgrade: markdown>=2.6.8 in /usr/local/lib/python3.6/dist-packages (from tensorboard~=2.4->tensorflow>=2.2.0->dopamine-rl) (3.3.3)\n",
            "Requirement already satisfied, skipping upgrade: setuptools>=41.0.0 in /usr/local/lib/python3.6/dist-packages (from tensorboard~=2.4->tensorflow>=2.2.0->dopamine-rl) (53.0.0)\n",
            "Requirement already satisfied, skipping upgrade: werkzeug>=0.11.15 in /usr/local/lib/python3.6/dist-packages (from tensorboard~=2.4->tensorflow>=2.2.0->dopamine-rl) (1.0.1)\n",
            "Requirement already satisfied, skipping upgrade: tensorboard-plugin-wit>=1.6.0 in /usr/local/lib/python3.6/dist-packages (from tensorboard~=2.4->tensorflow>=2.2.0->dopamine-rl) (1.8.0)\n",
            "Requirement already satisfied, skipping upgrade: requests<3,>=2.21.0 in /usr/local/lib/python3.6/dist-packages (from tensorboard~=2.4->tensorflow>=2.2.0->dopamine-rl) (2.23.0)\n",
            "Requirement already satisfied, skipping upgrade: cycler>=0.10 in /usr/local/lib/python3.6/dist-packages (from matplotlib->flax>=0.2.0->dopamine-rl) (0.10.0)\n",
            "Requirement already satisfied, skipping upgrade: kiwisolver>=1.0.1 in /usr/local/lib/python3.6/dist-packages (from matplotlib->flax>=0.2.0->dopamine-rl) (1.3.1)\n",
            "Requirement already satisfied, skipping upgrade: pyparsing!=2.0.4,!=2.1.2,!=2.1.6,>=2.0.1 in /usr/local/lib/python3.6/dist-packages (from matplotlib->flax>=0.2.0->dopamine-rl) (2.4.7)\n",
            "Requirement already satisfied, skipping upgrade: future in /usr/local/lib/python3.6/dist-packages (from pyglet<=1.5.0,>=1.4.0->gym[atari]>=0.13.1->dopamine-rl) (0.16.0)\n",
            "Requirement already satisfied, skipping upgrade: cachetools<5.0,>=2.0.0 in /usr/local/lib/python3.6/dist-packages (from google-auth<2,>=1.6.3->tensorboard~=2.4->tensorflow>=2.2.0->dopamine-rl) (4.2.1)\n",
            "Requirement already satisfied, skipping upgrade: rsa<5,>=3.1.4; python_version >= \"3.6\" in /usr/local/lib/python3.6/dist-packages (from google-auth<2,>=1.6.3->tensorboard~=2.4->tensorflow>=2.2.0->dopamine-rl) (4.7)\n",
            "Requirement already satisfied, skipping upgrade: pyasn1-modules>=0.2.1 in /usr/local/lib/python3.6/dist-packages (from google-auth<2,>=1.6.3->tensorboard~=2.4->tensorflow>=2.2.0->dopamine-rl) (0.2.8)\n",
            "Requirement already satisfied, skipping upgrade: requests-oauthlib>=0.7.0 in /usr/local/lib/python3.6/dist-packages (from google-auth-oauthlib<0.5,>=0.4.1->tensorboard~=2.4->tensorflow>=2.2.0->dopamine-rl) (1.3.0)\n",
            "Requirement already satisfied, skipping upgrade: importlib-metadata; python_version < \"3.8\" in /usr/local/lib/python3.6/dist-packages (from markdown>=2.6.8->tensorboard~=2.4->tensorflow>=2.2.0->dopamine-rl) (3.4.0)\n",
            "Requirement already satisfied, skipping upgrade: idna<3,>=2.5 in /usr/local/lib/python3.6/dist-packages (from requests<3,>=2.21.0->tensorboard~=2.4->tensorflow>=2.2.0->dopamine-rl) (2.10)\n",
            "Requirement already satisfied, skipping upgrade: chardet<4,>=3.0.2 in /usr/local/lib/python3.6/dist-packages (from requests<3,>=2.21.0->tensorboard~=2.4->tensorflow>=2.2.0->dopamine-rl) (3.0.4)\n",
            "Requirement already satisfied, skipping upgrade: urllib3!=1.25.0,!=1.25.1,<1.26,>=1.21.1 in /usr/local/lib/python3.6/dist-packages (from requests<3,>=2.21.0->tensorboard~=2.4->tensorflow>=2.2.0->dopamine-rl) (1.24.3)\n",
            "Requirement already satisfied, skipping upgrade: certifi>=2017.4.17 in /usr/local/lib/python3.6/dist-packages (from requests<3,>=2.21.0->tensorboard~=2.4->tensorflow>=2.2.0->dopamine-rl) (2020.12.5)\n",
            "Requirement already satisfied, skipping upgrade: pyasn1>=0.1.3 in /usr/local/lib/python3.6/dist-packages (from rsa<5,>=3.1.4; python_version >= \"3.6\"->google-auth<2,>=1.6.3->tensorboard~=2.4->tensorflow>=2.2.0->dopamine-rl) (0.4.8)\n",
            "Requirement already satisfied, skipping upgrade: oauthlib>=3.0.0 in /usr/local/lib/python3.6/dist-packages (from requests-oauthlib>=0.7.0->google-auth-oauthlib<0.5,>=0.4.1->tensorboard~=2.4->tensorflow>=2.2.0->dopamine-rl) (3.1.0)\n",
            "Requirement already satisfied, skipping upgrade: zipp>=0.5 in /usr/local/lib/python3.6/dist-packages (from importlib-metadata; python_version < \"3.8\"->markdown>=2.6.8->tensorboard~=2.4->tensorflow>=2.2.0->dopamine-rl) (3.4.0)\n",
            "Installing collected packages: flax, pygame, tf-slim, dopamine-rl\n",
            "  Found existing installation: dopamine-rl 1.0.5\n",
            "    Uninstalling dopamine-rl-1.0.5:\n",
            "      Successfully uninstalled dopamine-rl-1.0.5\n",
            "Successfully installed dopamine-rl-3.1.8 flax-0.3.0 pygame-2.0.1 tf-slim-1.1.0\n",
            "Requirement already satisfied: cmake in /usr/local/lib/python3.6/dist-packages (3.12.0)\n",
            "Requirement already satisfied: atari_py in /usr/local/lib/python3.6/dist-packages (0.2.6)\n",
            "Requirement already satisfied: six in /usr/local/lib/python3.6/dist-packages (from atari_py) (1.15.0)\n",
            "Requirement already satisfied: numpy in /usr/local/lib/python3.6/dist-packages (from atari_py) (1.19.5)\n",
            "Requirement already satisfied: gin-config in /usr/local/lib/python3.6/dist-packages (0.4.0)\n",
            "TensorFlow 1.x selected.\n"
          ],
          "name": "stdout"
        }
      ]
    },
    {
      "cell_type": "code",
      "metadata": {
        "id": "FQayCscb0Vts",
        "cellView": "form"
      },
      "source": [
        "#@title Create the new model with the higher entropies\n",
        "import tensorflow as tf \n",
        "import gzip\n",
        "import numpy as np \n",
        "\n",
        "SOURCE = 'Robotank'  # @param\n",
        "TARGET = 'StarGunner'  # @param\n",
        "\n",
        "# Return the entropy of a histogram\n",
        "def entropy(kernel):\n",
        "\tpI=kernel/kernel.sum()\n",
        "\ty=[]\n",
        "\tfor i in pI:\n",
        "\t\tif i==0:\n",
        "\t\t\ty.append(0)\n",
        "\t\telse:\n",
        "\t\t\ty.append(np.log2(i))\n",
        "\treturn -np.sum(pI*y)\n",
        "\n",
        "# Return the histogram of the feature map\n",
        "def getHistogram(array):\n",
        "\tif np.amax(array)==0:\n",
        "\t\treturn np.histogram(np.array(array)/0.000001,bins=(np.arange(101)/100))[0]\n",
        "\treturn np.histogram(np.array(array)/np.amax(array),bins=(np.arange(101)/100))[0]\n",
        "\n",
        "# Load the layers for evaluating the model\n",
        "def loadLayers(weights, tf_session):\n",
        "\tlayers=np.load(weights, allow_pickle=True)\n",
        "\tx=0\n",
        "\tfor i in range(len(tf.trainable_variables())):\n",
        "\t\tif 'fully_connected' not in tf.trainable_variables()[i].name:\n",
        "\t\t\ttf_session.run(tf.assign(tf.trainable_variables()[i], layers[x]))\n",
        "\t\t\tx+=1\n",
        "\tprint('Loaded layers =)')\n",
        "\n",
        "def heatmapEntropies(heatmaps):\n",
        "  entropies=[]\n",
        "  for hm in heatmaps:\n",
        "    entropies.append(entropy(getHistogram(hm)))\n",
        "  return entropies\n",
        "\n",
        "def get_Experience_Replay():\n",
        "  # Load the Experience replay, we only use 2500 instances for test the model \n",
        "  # and get the new model with lower parameters\n",
        "  ER_filename = '/content/drive/My Drive/Experience_Replay_Regresor/'+TARGET+'/$store$_observation_ckpt.0.gz'\n",
        "  with tf.gfile.Open(ER_filename, 'rb') as f:\n",
        "    with gzip.GzipFile(fileobj=f) as infile:\n",
        "      return np.moveaxis(np.moveaxis(np.load(infile, allow_pickle=False)[:20000].reshape(5000,4,84,84),2,1),3,2)\n",
        "\n",
        "\n",
        "def preserving_Info(percentage, array):\n",
        "  k_to_erase=0\n",
        "  for i in array:\n",
        "    if i>=percentage:\n",
        "      return k_to_erase\n",
        "    k_to_erase+=1\n",
        "\n",
        "Experience_Replay=get_Experience_Replay()\n",
        "layers=['Online/Conv/Relu', 'Online/Conv_1/Relu', 'Online/Conv_2/Relu']\n",
        "\n",
        "config = tf.ConfigProto(allow_soft_placement = True)\n",
        "\n",
        "with tf.Session(config=config) as sess:\n",
        "  #load the pre-trained model\n",
        "  compression_kernels=[]\n",
        "  saver = tf.train.import_meta_graph('/content/drive/My Drive/Experience_Replay_Regresor/aleatorio100/tf_ckpt-0.meta')\n",
        "  saver.restore(sess,'/content/drive/My Drive/Experience_Replay_Regresor/aleatorio100/tf_ckpt-0')\n",
        "  model_input = sess.graph.get_operation_by_name('state_ph').outputs[0]\n",
        "  loadLayers('/content/drive/My Drive/Layers_Transfer_100/'+SOURCE+'.npy', sess)\n",
        "  # full entropies: entropies that will be used in the compressed model\n",
        "  full_entropies=[]\n",
        "  conv_1=[]\n",
        "  conv_2=[]\n",
        "  conv_3=[]\n",
        "\n",
        "  for instance in Experience_Replay:\n",
        "    for layer in range(len(layers)):\n",
        "      model_output = sess.graph.get_operation_by_name(layers[layer]).outputs[0]\n",
        "      output=sess.run(model_output,feed_dict={model_input:np.expand_dims(instance, axis=0)})\n",
        "      if layer==0:\n",
        "        conv_1.append(heatmapEntropies(np.moveaxis(output[0],2,0)))\n",
        "      elif layer==1:\n",
        "        conv_2.append(heatmapEntropies(np.moveaxis(output[0],2,0)))\n",
        "      else:\n",
        "        conv_3.append(heatmapEntropies(np.moveaxis(output[0],2,0)))\n",
        "  conv_1=np.mean(np.array(conv_1), axis=0)\n",
        "  conv_2=np.mean(np.array(conv_2), axis=0)\n",
        "  conv_3=np.mean(np.array(conv_3), axis=0)\n",
        "  \n",
        "  compression_kernels=[16,32,32]\n",
        "\n",
        "  kernel_to_transfer=[]\n",
        "  kernel_to_transfer.append(np.array(conv_1.argsort().tolist()[::-1]))\n",
        "  kernel_to_transfer.append(np.array(conv_2.argsort().tolist()[::-1]))\n",
        "  kernel_to_transfer.append(np.array(conv_3.argsort().tolist()[::-1]))\n",
        "  \n",
        "  layers=[]\n",
        "  \n",
        "  x=0\n",
        "  for i in range(0,len(tf.trainable_variables()),2):\n",
        "    if 'Conv' in tf.trainable_variables()[i].name:\n",
        "      if i==0 or i==10:\n",
        "        transfer_positions=np.sort(kernel_to_transfer[x]\n",
        "                                 [0:compression_kernels[0]])\n",
        "        layers.append(sess.run(tf.trainable_variables()[i])[:,:,:,transfer_positions])\n",
        "        layers.append(sess.run(tf.trainable_variables()[i+1])[transfer_positions])\n",
        "      else:\n",
        "        transfer_positions=np.sort(kernel_to_transfer[x]\n",
        "                                 [0:compression_kernels[x]])\n",
        "        previous_transfer_positions=np.sort(kernel_to_transfer[x-1]\n",
        "                                 [0:compression_kernels[x-1]])\n",
        "        layers.append(sess.run(tf.trainable_variables()[i])\n",
        "                                 [:,:,previous_transfer_positions][:,:,:,transfer_positions])\n",
        "        layers.append(sess.run(tf.trainable_variables()[i+1])[transfer_positions])\n",
        "      x+=1\n",
        "      if x==3:\n",
        "        x=0\n",
        "  np.save('/content/drive/My Drive/Layers_Transfer_50/'+SOURCE+'_'+TARGET+'.npy', np.array(layers))\n",
        "  sess.close()  "
      ],
      "execution_count": null,
      "outputs": []
    },
    {
      "cell_type": "code",
      "metadata": {
        "id": "OHgXIbNPz1dz",
        "colab": {
          "base_uri": "https://localhost:8080/"
        },
        "outputId": "e4d4c95e-1316-4549-a0f1-9491bae20d57"
      },
      "source": [
        "#@title Necessary Imports and global parameters\n",
        "import numpy as np\n",
        "import tensorflow.compat.v1 as tf\n",
        "import cv2\n",
        "import sys\n",
        "import gin.tf\n",
        "from dopamine.agents.dqn import dqn_agent\n",
        "from dopamine.discrete_domains import atari_lib\n",
        "from dopamine.discrete_domains.atari_lib import NatureDQNNetwork\n",
        "from dopamine.discrete_domains import run_experiment \n",
        "from dopamine.discrete_domains import checkpointer\n",
        "from dopamine.discrete_domains import iteration_statistics\n",
        "import collections\n",
        "Layers_Path='/content/drive/My Drive/Layers_Transfer_50/'#+SOURCE+'_'+GAME+'.npy'\n",
        "GAME = 'SpaceInvaders'  # @param\n",
        "SOURCE=['Jamesbond', 'Assault'] # @param\n",
        "WEIGHTS=[]\n",
        "ONLINE=[]\n",
        "TARGET=[]\n",
        "\n",
        "for i in SOURCE:\n",
        "  array=np.load(Layers_Path+i+'_'+GAME+'.npy',allow_pickle=True)\n",
        "  print(len(array))\n",
        "  for j in range(len(array)):\n",
        "    if j < 6:\n",
        "      ONLINE.append(array[j])\n",
        "    else:\n",
        "      TARGET.append(array[j])\n",
        "\n",
        "for i in ONLINE:\n",
        "  WEIGHTS.append(i)\n",
        "for i in TARGET:\n",
        "  WEIGHTS.append(i)\n",
        "\n",
        "BASE_PATH='/content/drive/My Drive/Full_'+GAME\n",
        "print(BASE_PATH)"
      ],
      "execution_count": null,
      "outputs": [
        {
          "output_type": "stream",
          "text": [
            "WARNING:root:Argument blacklist is deprecated. Please use denylist.\n",
            "WARNING:root:Argument blacklist is deprecated. Please use denylist.\n",
            "WARNING:root:Argument blacklist is deprecated. Please use denylist.\n"
          ],
          "name": "stderr"
        },
        {
          "output_type": "stream",
          "text": [
            "12\n",
            "12\n",
            "/content/drive/My Drive/Full_SpaceInvaders\n"
          ],
          "name": "stdout"
        }
      ]
    },
    {
      "cell_type": "code",
      "metadata": {
        "id": "8oI8PviX3UEF"
      },
      "source": [
        "# Create a new dqn with lower parameters\n",
        "DQNNetworkType = collections.namedtuple('dqn_network', ['q_values'])\n",
        "class ReducedDQN(atari_lib.NatureDQNNetwork):\n",
        "  \"\"\"The convolutional network used to compute the agent's Q-values.\"\"\"\n",
        "\n",
        "  def __init__(self, num_actions, name=None):\n",
        "    \"\"\"Creates the layers used for calculating Q-values.\n",
        "    Args:\n",
        "      num_actions: int, number of actions.\n",
        "      name: str, used to create scope for network parameters.\n",
        "    \"\"\"\n",
        "    super(NatureDQNNetwork, self).__init__(name=name)\n",
        "\n",
        "    self.num_actions = num_actions\n",
        "    # Defining layers.\n",
        "    activation_fn = tf.keras.activations.relu\n",
        "    # We transfer the weights from two task, an a half of kernels from each model\n",
        "    # Part 1:\n",
        "    self.conv_1_1 = tf.keras.layers.Conv2D(16, [8, 8], strides=4, padding='same',\n",
        "                                        activation=activation_fn, name='Conv')\n",
        "    self.conv_1_2 = tf.keras.layers.Conv2D(32, [4, 4], strides=2, padding='same',\n",
        "                                        activation=activation_fn, name='Conv')\n",
        "    self.conv_1_3 = tf.keras.layers.Conv2D(32, [3, 3], strides=1, padding='same',\n",
        "                                        activation=activation_fn, name='Conv')\n",
        "    #Set trainable layers in false\n",
        "    self.conv_1_1.trainable=False\n",
        "    self.conv_1_2.trainable=False\n",
        "    self.conv_1_3.trainable=False\n",
        "    \n",
        "    #Part 2:\n",
        "    self.conv_2_1 = tf.keras.layers.Conv2D(16, [8, 8], strides=4, padding='same',\n",
        "                                        activation=activation_fn, name='Conv')\n",
        "    self.conv_2_2 = tf.keras.layers.Conv2D(32, [4, 4], strides=2, padding='same',\n",
        "                                        activation=activation_fn, name='Conv')\n",
        "    self.conv_2_3 = tf.keras.layers.Conv2D(32, [3, 3], strides=1, padding='same',\n",
        "                                        activation=activation_fn, name='Conv')\n",
        "    #Set trainable layers in False\n",
        "    self.conv_2_1.trainable=False\n",
        "    self.conv_2_2.trainable=False\n",
        "    self.conv_2_3.trainable=False\n",
        "\n",
        "\n",
        "    self.conv_join = tf.keras.layers.Conv2D(48, [3, 3], strides=1, padding='same',\n",
        "                                        activation=activation_fn, name='C_Join')\n",
        "    self.flatten = tf.keras.layers.Flatten()\n",
        "    self.dense1 = tf.keras.layers.Dense(384, activation=activation_fn,\n",
        "                                        name='fully_connected')\n",
        "    self.dense2 = tf.keras.layers.Dense(num_actions, name='fully_connected')\n",
        "\n",
        "  def call(self, state):\n",
        "    #Input\n",
        "    input = tf.cast(state, tf.float32)\n",
        "    input = tf.div(input, 255.)\n",
        "    #Part 1\n",
        "    p1 = self.conv_1_1(input)\n",
        "    p1 = self.conv_1_2(p1)\n",
        "    p1 = self.conv_1_3(p1)\n",
        "    #Part 2\n",
        "    p2 = self.conv_2_1(input)\n",
        "    p2 = self.conv_2_2(p2)\n",
        "    p2 = self.conv_2_3(p2)\n",
        "    #Concatenate\n",
        "    x=tf.keras.layers.concatenate([p1,p2])\n",
        "    x = self.conv_join(x)\n",
        "    x = self.flatten(x)\n",
        "    x = self.dense1(x)\n",
        "\n",
        "    return DQNNetworkType(self.dense2(x))"
      ],
      "execution_count": null,
      "outputs": []
    },
    {
      "cell_type": "code",
      "metadata": {
        "id": "fTzDD4KPmCT4"
      },
      "source": [
        "#We create a new runner for loading the weights and report mean +/- std\n",
        "\n",
        "class myRunner(run_experiment.Runner):\n",
        "    \n",
        "    def __init__(self, base_dir, create_agent_fn):\n",
        "        super(myRunner, self).__init__(base_dir, create_agent_fn)\n",
        "    \n",
        "    def _run_one_phase(self, min_steps, statistics, run_mode_str):\n",
        "        step_count = 0\n",
        "        num_episodes = 0\n",
        "        sum_returns = 0.\n",
        "        returns=[]\n",
        "        while step_count < min_steps:\n",
        "            episode_length, episode_return = self._run_one_episode()\n",
        "            statistics.append({\n",
        "              '{}_episode_lengths'.format(run_mode_str): episode_length,\n",
        "              '{}_episode_returns'.format(run_mode_str): episode_return\n",
        "            })\n",
        "            step_count += episode_length\n",
        "            sum_returns += episode_return\n",
        "            num_episodes += 1\n",
        "            returns.append(episode_return)\n",
        "            # We use sys.stdout.write instead of tf.logging so as to flush frequently\n",
        "            # without generating a line break.\n",
        "            sys.stdout.write('Steps executed: {} '.format(step_count) +\n",
        "                       'Episode length: {} '.format(episode_length) +\n",
        "                       'Return: {}\\r'.format(episode_return))\n",
        "            sys.stdout.flush()\n",
        "        print('Mean:',np.mean(np.array(returns)),'Std: +/- ',np.std(np.array(returns)))\n",
        "        return step_count, sum_returns, num_episodes\n",
        "    def _initialize_checkpointer_and_maybe_resume(self, checkpoint_file_prefix):\n",
        "        self._checkpointer = checkpointer.Checkpointer(self._checkpoint_dir,\n",
        "                                                   checkpoint_file_prefix)\n",
        "        self._start_iteration = 0\n",
        "        # Check if checkpoint exists. Note that the existence of checkpoint 0 means\n",
        "        # that we have finished iteration 0 (so we will start from iteration 1).\n",
        "        latest_checkpoint_version = checkpointer.get_latest_checkpoint_number(\n",
        "        self._checkpoint_dir)\n",
        "        if latest_checkpoint_version >= 0:\n",
        "            experiment_data = self._checkpointer.load_checkpoint(\n",
        "                               latest_checkpoint_version)\n",
        "            if self._agent.unbundle(\n",
        "                self._checkpoint_dir, latest_checkpoint_version, experiment_data):\n",
        "                if experiment_data is not None:\n",
        "                    assert 'logs' in experiment_data\n",
        "                    assert 'current_iteration' in experiment_data\n",
        "                    self._logger.data = experiment_data['logs']\n",
        "                    self._start_iteration = experiment_data['current_iteration'] + 1\n",
        "                    tf.logging.info('Reloaded checkpoint and will start from iteration %d',\n",
        "                        self._start_iteration)\n",
        "        else:\n",
        "            #print('Algo')\n",
        "            #layers=np.load(WEIGHTS, allow_pickle=True)\n",
        "            x=0\n",
        "            for i in range(len(tf.trainable_variables())):\n",
        "              #print(tf.trainable_variables()[i].name)\n",
        "              #print(tf.trainable_variables()[i].name)\n",
        "              if 'Conv' in tf.trainable_variables()[i].name:\n",
        "                #print(tf.trainable_variables()[i].name)\n",
        "                #print(self._sess.run(tf.trainable_variables()[i]).shape)\n",
        "                #print(WEIGHTS[x].shape)                \n",
        "                self._sess.run(tf.assign(tf.trainable_variables()[i], WEIGHTS[x]))\n",
        "                \n",
        "                x+=1\n",
        "            print('Loaded layers =)')\n",
        "    def _run_one_iteration(self, iteration):\n",
        "      statistics = iteration_statistics.IterationStatistics()\n",
        "      #logging.info('Starting iteration %d', iteration)\n",
        "      print('Starting iteration:', iteration)\n",
        "      num_episodes_train, average_reward_train, average_steps_per_second = (\n",
        "        self._run_train_phase(statistics))\n",
        "      num_episodes_eval, average_reward_eval = self._run_eval_phase(\n",
        "        statistics)\n",
        "    \n",
        "      self._save_tensorboard_summaries(iteration, num_episodes_train,\n",
        "                                     average_reward_train, num_episodes_eval,\n",
        "                                     average_reward_eval,\n",
        "                                     average_steps_per_second)\n",
        "      return statistics.data_lists"
      ],
      "execution_count": null,
      "outputs": []
    },
    {
      "cell_type": "code",
      "metadata": {
        "id": "UeIzVac03fv3",
        "colab": {
          "base_uri": "https://localhost:8080/"
        },
        "outputId": "152d48b4-d343-4fd1-c66e-a3e611c11459"
      },
      "source": [
        "def create_dqn_agent(sess, environment, summary_writer=None):\n",
        "  \"\"\"The Runner class will expect a function of this type to create an agent.\"\"\"\n",
        "  return dqn_agent.DQNAgent(sess, num_actions=environment.action_space.n, network=ReducedDQN)\n",
        "\n",
        "\n",
        "#Reducir learning rate, aumentar batch size\n",
        "dqn_config = \"\"\"\n",
        "import dopamine.agents.dqn.dqn_agent\n",
        "import dopamine.discrete_domains.atari_lib\n",
        "import dopamine.discrete_domains.run_experiment\n",
        "import gin.tf.external_configurables\n",
        "create_agent.agent_name = 'dqn'\n",
        "atari_lib.create_atari_environment.game_name = '{}'\n",
        "atari_lib.create_atari_environment.sticky_actions = True\n",
        "DQNAgent.tf_device = '/gpu:0'\n",
        "tf.train.RMSPropOptimizer.learning_rate = 0.000025\n",
        "run_experiment.Runner.num_iterations = 50\n",
        "run_experiment.Runner.training_steps = 250000\n",
        "run_experiment.Runner.max_steps_per_episode = 125000\n",
        "WrappedReplayBuffer.batch_size = 64\n",
        "\"\"\".format(GAME)\n",
        "gin.parse_config(dqn_config, skip_unknown=False)"
      ],
      "execution_count": null,
      "outputs": [
        {
          "output_type": "execute_result",
          "data": {
            "text/plain": [
              "([],\n",
              " ['dopamine.agents.dqn.dqn_agent',\n",
              "  'dopamine.discrete_domains.atari_lib',\n",
              "  'dopamine.discrete_domains.run_experiment',\n",
              "  'gin.tf.external_configurables'])"
            ]
          },
          "metadata": {
            "tags": []
          },
          "execution_count": 6
        }
      ]
    },
    {
      "cell_type": "code",
      "metadata": {
        "id": "if-J4_6J3hok",
        "colab": {
          "base_uri": "https://localhost:8080/"
        },
        "outputId": "5c84bcb2-fb70-4a5d-fe32-343f168de1a7"
      },
      "source": [
        "from dopamine.colab import utils as colab_utils\n",
        "import sys\n",
        "import numpy as np\n",
        "import matplotlib.pyplot as plt\n",
        "import seaborn as sns\n",
        "print(BASE_PATH)\n",
        "\n",
        "plt.clf()\n",
        "plt.figure(figsize=(12,7))\n",
        "sns.set(style='darkgrid')\n",
        "#print(colab_utils.read_experiment(BASE_PATH, verbose=True))\n",
        "data=colab_utils.read_experiment(BASE_PATH, verbose=True, summary_keys=['train_episode_returns', 'eval_episode_returns'])\n",
        "plt.title(GAME)\n",
        "print(max(data['eval_episode_returns']))\n",
        "plt.plot(data['eval_episode_returns'], label='Evaluation')\n",
        "plt.plot(data['train_episode_returns'], label='Training')\n",
        "plt.legend()\n",
        "plt.show()"
      ],
      "execution_count": null,
      "outputs": [
        {
          "output_type": "stream",
          "text": [
            "/content/drive/My Drive/Full_SpaceInvaders\n",
            "Reading statistics from: /content/drive/My Drive/Full_SpaceInvaders//logs/log_49\n",
            "1123.448275862069\n"
          ],
          "name": "stdout"
        },
        {
          "output_type": "display_data",
          "data": {
            "text/plain": [
              "<Figure size 432x288 with 0 Axes>"
            ]
          },
          "metadata": {
            "tags": []
          }
        },
        {
          "output_type": "display_data",
          "data": {
            "image/png": "[encoded data removed]",
            "text/plain": [
              "<Figure size 864x504 with 1 Axes>"
            ]
          },
          "metadata": {
            "tags": []
          }
        }
      ]
    },
    {
      "cell_type": "code",
      "metadata": {
        "id": "VWlnM3mP3kqZ",
        "colab": {
          "base_uri": "https://localhost:8080/"
        },
        "outputId": "67b0080a-f110-44fa-c077-5549eb297cdb"
      },
      "source": [
        "runner = myRunner(BASE_PATH, create_dqn_agent)\n",
        "runner.run_experiment()"
      ],
      "execution_count": null,
      "outputs": [
        {
          "output_type": "stream",
          "text": [
            "WARNING:tensorflow:From /tensorflow-1.15.2/python3.6/tensorflow_core/python/compat/v2_compat.py:68: disable_resource_variables (from tensorflow.python.ops.variable_scope) is deprecated and will be removed in a future version.\n",
            "Instructions for updating:\n",
            "non-resource variables are not supported in the long term\n"
          ],
          "name": "stdout"
        },
        {
          "output_type": "stream",
          "text": [
            "WARNING:tensorflow:From /tensorflow-1.15.2/python3.6/tensorflow_core/python/compat/v2_compat.py:68: disable_resource_variables (from tensorflow.python.ops.variable_scope) is deprecated and will be removed in a future version.\n",
            "Instructions for updating:\n",
            "non-resource variables are not supported in the long term\n"
          ],
          "name": "stderr"
        },
        {
          "output_type": "stream",
          "text": [
            "WARNING:tensorflow:Entity <bound method ReducedDQN.call of <__main__.ReducedDQN object at 0x7f6508491588>> could not be transformed and will be executed as-is. Please report this to the AutoGraph team. When filing the bug, set the verbosity to 10 (on Linux, `export AUTOGRAPH_VERBOSITY=10`) and attach the full output. Cause: Bad argument number for Name: 3, expecting 4\n"
          ],
          "name": "stdout"
        },
        {
          "output_type": "stream",
          "text": [
            "WARNING:tensorflow:Entity <bound method ReducedDQN.call of <__main__.ReducedDQN object at 0x7f6508491588>> could not be transformed and will be executed as-is. Please report this to the AutoGraph team. When filing the bug, set the verbosity to 10 (on Linux, `export AUTOGRAPH_VERBOSITY=10`) and attach the full output. Cause: Bad argument number for Name: 3, expecting 4\n"
          ],
          "name": "stderr"
        },
        {
          "output_type": "stream",
          "text": [
            "WARNING: Entity <bound method ReducedDQN.call of <__main__.ReducedDQN object at 0x7f6508491588>> could not be transformed and will be executed as-is. Please report this to the AutoGraph team. When filing the bug, set the verbosity to 10 (on Linux, `export AUTOGRAPH_VERBOSITY=10`) and attach the full output. Cause: Bad argument number for Name: 3, expecting 4\n",
            "WARNING:tensorflow:From <ipython-input-4-48596f1e904b>:53: div (from tensorflow.python.ops.math_ops) is deprecated and will be removed in a future version.\n",
            "Instructions for updating:\n",
            "Deprecated in favor of operator or tf.math.divide.\n"
          ],
          "name": "stdout"
        },
        {
          "output_type": "stream",
          "text": [
            "WARNING:tensorflow:From <ipython-input-4-48596f1e904b>:53: div (from tensorflow.python.ops.math_ops) is deprecated and will be removed in a future version.\n",
            "Instructions for updating:\n",
            "Deprecated in favor of operator or tf.math.divide.\n"
          ],
          "name": "stderr"
        },
        {
          "output_type": "stream",
          "text": [
            "WARNING:tensorflow:From /tensorflow-1.15.2/python3.6/tensorflow_core/python/ops/resource_variable_ops.py:1630: calling BaseResourceVariable.__init__ (from tensorflow.python.ops.resource_variable_ops) with constraint is deprecated and will be removed in a future version.\n",
            "Instructions for updating:\n",
            "If using Keras pass *_constraint arguments to layers.\n"
          ],
          "name": "stdout"
        },
        {
          "output_type": "stream",
          "text": [
            "WARNING:tensorflow:From /tensorflow-1.15.2/python3.6/tensorflow_core/python/ops/resource_variable_ops.py:1630: calling BaseResourceVariable.__init__ (from tensorflow.python.ops.resource_variable_ops) with constraint is deprecated and will be removed in a future version.\n",
            "Instructions for updating:\n",
            "If using Keras pass *_constraint arguments to layers.\n"
          ],
          "name": "stderr"
        },
        {
          "output_type": "stream",
          "text": [
            "WARNING:tensorflow:Entity <bound method ReducedDQN.call of <__main__.ReducedDQN object at 0x7f6508491588>> could not be transformed and will be executed as-is. Please report this to the AutoGraph team. When filing the bug, set the verbosity to 10 (on Linux, `export AUTOGRAPH_VERBOSITY=10`) and attach the full output. Cause: Bad argument number for Name: 3, expecting 4\n"
          ],
          "name": "stdout"
        },
        {
          "output_type": "stream",
          "text": [
            "WARNING:tensorflow:Entity <bound method ReducedDQN.call of <__main__.ReducedDQN object at 0x7f6508491588>> could not be transformed and will be executed as-is. Please report this to the AutoGraph team. When filing the bug, set the verbosity to 10 (on Linux, `export AUTOGRAPH_VERBOSITY=10`) and attach the full output. Cause: Bad argument number for Name: 3, expecting 4\n"
          ],
          "name": "stderr"
        },
        {
          "output_type": "stream",
          "text": [
            "WARNING: Entity <bound method ReducedDQN.call of <__main__.ReducedDQN object at 0x7f6508491588>> could not be transformed and will be executed as-is. Please report this to the AutoGraph team. When filing the bug, set the verbosity to 10 (on Linux, `export AUTOGRAPH_VERBOSITY=10`) and attach the full output. Cause: Bad argument number for Name: 3, expecting 4\n",
            "WARNING:tensorflow:Entity <bound method ReducedDQN.call of <__main__.ReducedDQN object at 0x7f650842cef0>> could not be transformed and will be executed as-is. Please report this to the AutoGraph team. When filing the bug, set the verbosity to 10 (on Linux, `export AUTOGRAPH_VERBOSITY=10`) and attach the full output. Cause: Bad argument number for Name: 3, expecting 4\n"
          ],
          "name": "stdout"
        },
        {
          "output_type": "stream",
          "text": [
            "WARNING:tensorflow:Entity <bound method ReducedDQN.call of <__main__.ReducedDQN object at 0x7f650842cef0>> could not be transformed and will be executed as-is. Please report this to the AutoGraph team. When filing the bug, set the verbosity to 10 (on Linux, `export AUTOGRAPH_VERBOSITY=10`) and attach the full output. Cause: Bad argument number for Name: 3, expecting 4\n"
          ],
          "name": "stderr"
        },
        {
          "output_type": "stream",
          "text": [
            "WARNING: Entity <bound method ReducedDQN.call of <__main__.ReducedDQN object at 0x7f650842cef0>> could not be transformed and will be executed as-is. Please report this to the AutoGraph team. When filing the bug, set the verbosity to 10 (on Linux, `export AUTOGRAPH_VERBOSITY=10`) and attach the full output. Cause: Bad argument number for Name: 3, expecting 4\n",
            "WARNING:tensorflow:From /usr/local/lib/python3.6/dist-packages/dopamine/agents/dqn/dqn_agent.py:308: The name tf.losses.Reduction is deprecated. Please use tf.compat.v1.losses.Reduction instead.\n",
            "\n"
          ],
          "name": "stdout"
        },
        {
          "output_type": "stream",
          "text": [
            "WARNING:tensorflow:From /usr/local/lib/python3.6/dist-packages/dopamine/agents/dqn/dqn_agent.py:308: The name tf.losses.Reduction is deprecated. Please use tf.compat.v1.losses.Reduction instead.\n",
            "\n"
          ],
          "name": "stderr"
        },
        {
          "output_type": "stream",
          "text": [
            "WARNING:tensorflow:From /tensorflow-1.15.2/python3.6/tensorflow_core/python/ops/math_grad.py:1424: where (from tensorflow.python.ops.array_ops) is deprecated and will be removed in a future version.\n",
            "Instructions for updating:\n",
            "Use tf.where in 2.0, which has the same broadcast rule as np.where\n"
          ],
          "name": "stdout"
        },
        {
          "output_type": "stream",
          "text": [
            "WARNING:tensorflow:From /tensorflow-1.15.2/python3.6/tensorflow_core/python/ops/math_grad.py:1424: where (from tensorflow.python.ops.array_ops) is deprecated and will be removed in a future version.\n",
            "Instructions for updating:\n",
            "Use tf.where in 2.0, which has the same broadcast rule as np.where\n"
          ],
          "name": "stderr"
        },
        {
          "output_type": "stream",
          "text": [
            "WARNING:tensorflow:From /tensorflow-1.15.2/python3.6/tensorflow_core/python/training/rmsprop.py:119: calling Ones.__init__ (from tensorflow.python.ops.init_ops) with dtype is deprecated and will be removed in a future version.\n",
            "Instructions for updating:\n",
            "Call initializer instance with the dtype argument instead of passing it to the constructor\n"
          ],
          "name": "stdout"
        },
        {
          "output_type": "stream",
          "text": [
            "WARNING:tensorflow:From /tensorflow-1.15.2/python3.6/tensorflow_core/python/training/rmsprop.py:119: calling Ones.__init__ (from tensorflow.python.ops.init_ops) with dtype is deprecated and will be removed in a future version.\n",
            "Instructions for updating:\n",
            "Call initializer instance with the dtype argument instead of passing it to the constructor\n"
          ],
          "name": "stderr"
        },
        {
          "output_type": "stream",
          "text": [
            "INFO:tensorflow:Restoring parameters from /content/drive/My Drive/Full_SpaceInvaders/checkpoints/tf_ckpt-44\n"
          ],
          "name": "stdout"
        },
        {
          "output_type": "stream",
          "text": [
            "INFO:tensorflow:Restoring parameters from /content/drive/My Drive/Full_SpaceInvaders/checkpoints/tf_ckpt-44\n"
          ],
          "name": "stderr"
        },
        {
          "output_type": "stream",
          "text": [
            "INFO:tensorflow:Reloaded checkpoint and will start from iteration 45\n"
          ],
          "name": "stdout"
        },
        {
          "output_type": "stream",
          "text": [
            "INFO:tensorflow:Reloaded checkpoint and will start from iteration 45\n"
          ],
          "name": "stderr"
        },
        {
          "output_type": "stream",
          "text": [
            "Starting iteration: 45\n",
            "Mean: 1001.060606060606 Std: +/-  323.70782181260773\n",
            "Mean: 1048.8202247191011 Std: +/-  304.83281702030337\n",
            "Starting iteration: 46\n",
            "Mean: 1005.7105263157895 Std: +/-  337.1246769133543\n",
            "Mean: 1093.8333333333333 Std: +/-  346.7283999520855\n",
            "Starting iteration: 47\n",
            "Mean: 1028.4375 Std: +/-  357.61530228317037\n",
            "Mean: 1074.4736842105262 Std: +/-  323.39195192619917\n",
            "Starting iteration: 48\n",
            "Mean: 1024.4946808510638 Std: +/-  330.0054560693451\n",
            "Mean: 1123.448275862069 Std: +/-  307.7087277243156\n",
            "Starting iteration: 49\n",
            "Mean: 1064.207650273224 Std: +/-  312.52243730851507\n",
            "Mean: 1006.1797752808989 Std: +/-  334.30039515038317\n",
            "WARNING:tensorflow:From /tensorflow-1.15.2/python3.6/tensorflow_core/python/training/saver.py:963: remove_checkpoint (from tensorflow.python.training.checkpoint_management) is deprecated and will be removed in a future version.\n",
            "Instructions for updating:\n",
            "Use standard file APIs to delete files with this prefix.\n"
          ],
          "name": "stdout"
        },
        {
          "output_type": "stream",
          "text": [
            "WARNING:tensorflow:From /tensorflow-1.15.2/python3.6/tensorflow_core/python/training/saver.py:963: remove_checkpoint (from tensorflow.python.training.checkpoint_management) is deprecated and will be removed in a future version.\n",
            "Instructions for updating:\n",
            "Use standard file APIs to delete files with this prefix.\n"
          ],
          "name": "stderr"
        }
      ]
    }
  ]
}